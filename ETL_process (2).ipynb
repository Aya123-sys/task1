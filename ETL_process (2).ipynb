{
 "cells": [
  {
   "cell_type": "code",
   "execution_count": 2,
   "id": "3a250e96-8867-4a96-ad08-1a360bf9579e",
   "metadata": {},
   "outputs": [],
   "source": [
    "import pandas as pd \n",
    "import glob as g \n",
    "import numpy as np"
   ]
  },
  {
   "cell_type": "code",
   "execution_count": 3,
   "id": "0db9e7ca-c493-4402-b08a-4270e7ac9945",
   "metadata": {},
   "outputs": [
    {
     "name": "stdout",
     "output_type": "stream",
     "text": [
      "     CustomerID  Gender  Age  Annual Income  Spending Score \n",
      "0             1    Male   19             15               39\n",
      "1             2    Male   21             15               81\n",
      "2             3  Female   20             16                6\n",
      "3             4  Female   23             16               77\n",
      "4             5  Female   31             17               40\n",
      "..          ...     ...  ...            ...              ...\n",
      "195         196  Female   35            120               79\n",
      "196         197  Female   45            126               28\n",
      "197         198    Male   32            126               74\n",
      "198         199    Male   32            137               18\n",
      "199         200    Male   30            137               83\n",
      "\n",
      "[200 rows x 5 columns]\n"
     ]
    }
   ],
   "source": [
    "# integration \n",
    "df=pd.read_csv(\"https://raw.githubusercontent.com/Aya123-sys/task1/main/Mall_Customers.csv\")\n",
    "print(df)\n"
   ]
  },
  {
   "cell_type": "code",
   "execution_count": 4,
   "id": "1640f70a-480d-41fb-9e0d-83ea3b168c21",
   "metadata": {},
   "outputs": [
    {
     "name": "stdout",
     "output_type": "stream",
     "text": [
      "     Store ID  Store_Area  Items_Available  Daily_Customer_Count  Store_Sales\n",
      "0           1        1659             1961                   530        66490\n",
      "1           2        1461             1752                   210        39820\n",
      "2           3        1340             1609                   720        54010\n",
      "3           4        1451             1748                   620        53730\n",
      "4           5        1770             2111                   450        46620\n",
      "..        ...         ...              ...                   ...          ...\n",
      "891       892        1582             1910                  1080        66390\n",
      "892       893        1387             1663                   850        82080\n",
      "893       894        1200             1436                  1060        76440\n",
      "894       895        1299             1560                   770        96610\n",
      "895       896        1174             1429                  1110        54340\n",
      "\n",
      "[896 rows x 5 columns]\n"
     ]
    }
   ],
   "source": [
    "df1=pd.read_json(\"https://raw.githubusercontent.com/Aya123-sys/task1/main/stores.json\")\n",
    "print(df1)\n"
   ]
  },
  {
   "cell_type": "code",
   "execution_count": 5,
   "id": "dd759df3-6e51-4030-b69c-89cd9593ef25",
   "metadata": {},
   "outputs": [],
   "source": [
    "df2=pd.read_json(\"https://raw.githubusercontent.com/Aya123-sys/task1/main/markett.json\")\n"
   ]
  },
  {
   "cell_type": "code",
   "execution_count": 6,
   "id": "6a2fc148-4350-4179-8f10-eac28f0566fa",
   "metadata": {},
   "outputs": [
    {
     "name": "stdout",
     "output_type": "stream",
     "text": [
      "       Transaction_ID                Date       Customer_Name  \\\n",
      "0          1000000000 2020-12-21 19:42:52     Cheyenne Newman   \n",
      "1          1000000001 2020-07-06 07:45:16    Emily Fitzgerald   \n",
      "2          1000000002 2021-10-02 06:28:44        Michael Webb   \n",
      "3          1000000003 2022-01-10 05:39:02        Kimberly Lin   \n",
      "4          1000000004 2021-10-13 07:28:47     Cathy Hernandez   \n",
      "...               ...                 ...                 ...   \n",
      "29993      1000029993 2020-06-15 22:30:57  Casey Jennings DDS   \n",
      "29994      1000029994 2021-04-04 03:37:08        Leah Aguilar   \n",
      "29995      1000029995 2023-10-16 06:01:01      Candice Wilson   \n",
      "29996      1000029996 2020-04-08 17:31:16              Jay Yu   \n",
      "29997      1000029997 2020-12-18 07:10:45        Larry Miller   \n",
      "\n",
      "                                                 Product  Total_Items  \\\n",
      "0                                           ['Hair Gel']            6   \n",
      "1             ['Tuna', 'Bread', 'Tissues', 'Trash Bags']            5   \n",
      "2                             ['Jam', 'Soap', 'Ketchup']            7   \n",
      "3                                          ['BBQ Sauce']            9   \n",
      "4      ['Hand Sanitizer', 'Bread', 'Extension Cords',...            4   \n",
      "...                                                  ...          ...   \n",
      "29993         ['Bath Towels', 'Mop', 'Chips', 'Diapers']            8   \n",
      "29994                           ['Toilet Paper', 'Soda']           10   \n",
      "29995  ['Butter', 'Tuna', 'Vinegar', 'Shower Gel', 'O...            7   \n",
      "29996                                          ['Honey']            8   \n",
      "29997                    ['Ironing Board', 'Toothbrush']            7   \n",
      "\n",
      "       Total_Cost  Payment_Method           City         Store_Type  \\\n",
      "0           12.77      Debit Card       New York  Convenience Store   \n",
      "1           13.88      Debit Card        Houston        Supermarket   \n",
      "2           47.02      Debit Card          Miami  Convenience Store   \n",
      "3           83.86  Mobile Payment        Seattle     Warehouse Club   \n",
      "4           30.55      Debit Card        Houston     Warehouse Club   \n",
      "...           ...             ...            ...                ...   \n",
      "29993       73.93            Cash  San Francisco   Department Store   \n",
      "29994       31.57     Credit Card        Atlanta     Warehouse Club   \n",
      "29995       31.74      Debit Card       New York        Supermarket   \n",
      "29996        5.84            Cash        Chicago           Pharmacy   \n",
      "29997       51.10     Credit Card    Los Angeles        Supermarket   \n",
      "\n",
      "      Discount_Applied Customer_Category  Season                   Promotion  \n",
      "0                 True           Student  Winter                        None  \n",
      "1                False      Professional    Fall      BOGO (Buy One Get One)  \n",
      "2                False       Young Adult  Winter                        None  \n",
      "3                 True    Senior Citizen  Summer  Discount on Selected Items  \n",
      "4                False    Senior Citizen  Spring                        None  \n",
      "...                ...               ...     ...                         ...  \n",
      "29993             True          Teenager  Summer      BOGO (Buy One Get One)  \n",
      "29994            False          Teenager    Fall  Discount on Selected Items  \n",
      "29995             True      Professional  Spring  Discount on Selected Items  \n",
      "29996             True      Professional  Summer  Discount on Selected Items  \n",
      "29997             True       Young Adult    Fall  Discount on Selected Items  \n",
      "\n",
      "[29998 rows x 13 columns]\n"
     ]
    }
   ],
   "source": [
    "print(df2)"
   ]
  },
  {
   "cell_type": "code",
   "execution_count": 7,
   "id": "68029989-e165-4e21-8c0d-a979ed9c4ccc",
   "metadata": {},
   "outputs": [
    {
     "name": "stdout",
     "output_type": "stream",
     "text": [
      "     Customer_id  Gender  Age  Annual_Income  Spending_Score\n",
      "0              1    Male   19             15              39\n",
      "1              2    Male   21             15              81\n",
      "2              3  Female   20             16               6\n",
      "3              4  Female   23             16              77\n",
      "4              5  Female   31             17              40\n",
      "..           ...     ...  ...            ...             ...\n",
      "195          196  Female   35            120              79\n",
      "196          197  Female   45            126              28\n",
      "197          198    Male   32            126              74\n",
      "198          199    Male   32            137              18\n",
      "199          200    Male   30            137              83\n",
      "\n",
      "[200 rows x 5 columns]\n"
     ]
    }
   ],
   "source": [
    "# transformation\n",
    "\n",
    "df = df.rename(columns={'Annual Income': 'Annual_Income'})\n",
    "df = df.rename(columns={'Spending Score ': 'Spending_Score'})\n",
    "df = df.rename(columns={'CustomerID':'Customer_id'})\n",
    "print(df)"
   ]
  },
  {
   "cell_type": "code",
   "execution_count": 8,
   "id": "a5e60781-a948-47f9-8ee7-e56404f64c9f",
   "metadata": {},
   "outputs": [],
   "source": [
    "# Function to generate random data\n",
    "def generate_random_data(num_rows):\n",
    "    ID = range(max(df['Customer_id']) + 1, max(df['Customer_id']) + num_rows + 1)\n",
    "    Gender = np.random.choice(['Male', 'Female'], size=num_rows)\n",
    "    Age = np.random.randint(15, 90, size=num_rows)\n",
    "    Income = np.random.randint(1, 300, size=num_rows)\n",
    "    Score = np.random.randint(1, 100, size=num_rows)\n",
    "    return {'Customer_id': ID, 'Gender': Gender, 'Age': Age, 'Annual_Income': Income, 'Spending_Score': Score}"
   ]
  },
  {
   "cell_type": "code",
   "execution_count": 9,
   "id": "3eab3647-f6c3-450d-85d2-bc478255b14a",
   "metadata": {},
   "outputs": [
    {
     "name": "stdout",
     "output_type": "stream",
     "text": [
      "       Customer_id  Gender  Age  Annual_Income  Spending_Score  Membership\n",
      "0                1    Male   19             15              39           1\n",
      "1                2    Male   21             15              81           0\n",
      "2                3  Female   20             16               6           1\n",
      "3                4  Female   23             16              77           0\n",
      "4                5  Female   31             17              40           1\n",
      "...            ...     ...  ...            ...             ...         ...\n",
      "14995        14996    Male   40            205              25           1\n",
      "14996        14997  Female   46            116              11           0\n",
      "14997        14998    Male   19             77              49           0\n",
      "14998        14999    Male   20             55              50           1\n",
      "14999        15000    Male   76             75              39           0\n",
      "\n",
      "[15000 rows x 6 columns]\n"
     ]
    }
   ],
   "source": [
    "random_data = generate_random_data(num_rows=14800)\n",
    "random_df = pd.DataFrame(random_data)\n",
    "df = pd.concat([df, random_df], ignore_index=True)\n",
    "df['Membership'] = np.random.choice([0,1],size=15000)\n",
    "\n",
    "print(df)"
   ]
  },
  {
   "cell_type": "code",
   "execution_count": 10,
   "id": "66971d14-4e92-4f78-8290-d89bd2450163",
   "metadata": {},
   "outputs": [
    {
     "name": "stdout",
     "output_type": "stream",
     "text": [
      "     Store_id  Store_Area  Items_Available  Daily_customer_count  Store_Sales\n",
      "0           1        1659             1961                   530        66490\n",
      "1           2        1461             1752                   210        39820\n",
      "2           3        1340             1609                   720        54010\n",
      "3           4        1451             1748                   620        53730\n",
      "4           5        1770             2111                   450        46620\n",
      "..        ...         ...              ...                   ...          ...\n",
      "891       892        1582             1910                  1080        66390\n",
      "892       893        1387             1663                   850        82080\n",
      "893       894        1200             1436                  1060        76440\n",
      "894       895        1299             1560                   770        96610\n",
      "895       896        1174             1429                  1110        54340\n",
      "\n",
      "[896 rows x 5 columns]\n"
     ]
    }
   ],
   "source": [
    "df1 = df1.rename(columns={'Store ID': 'Store_id'})\n",
    "df1 = df1.rename(columns={'Store_Area': 'Store_Area'})\n",
    "df1 = df1.rename(columns={'Daily_Customer_Count': 'Daily_customer_count'})\n",
    "print(df1)\n"
   ]
  },
  {
   "cell_type": "code",
   "execution_count": 11,
   "id": "14a0512a-8dad-4abe-ac82-7c7cdc50e14a",
   "metadata": {},
   "outputs": [
    {
     "name": "stdout",
     "output_type": "stream",
     "text": [
      "       Transaction_ID Time       Customer_Name  \\\n",
      "0          1000000000   19     Cheyenne Newman   \n",
      "1          1000000001   07    Emily Fitzgerald   \n",
      "2          1000000002   06        Michael Webb   \n",
      "3          1000000003   05        Kimberly Lin   \n",
      "4          1000000004   07     Cathy Hernandez   \n",
      "...               ...  ...                 ...   \n",
      "29993      1000029993   22  Casey Jennings DDS   \n",
      "29994      1000029994   03        Leah Aguilar   \n",
      "29995      1000029995   06      Candice Wilson   \n",
      "29996      1000029996   17              Jay Yu   \n",
      "29997      1000029997   07        Larry Miller   \n",
      "\n",
      "                                                 Product  Total_Items  \\\n",
      "0                                           ['Hair Gel']            6   \n",
      "1             ['Tuna', 'Bread', 'Tissues', 'Trash Bags']            5   \n",
      "2                             ['Jam', 'Soap', 'Ketchup']            7   \n",
      "3                                          ['BBQ Sauce']            9   \n",
      "4      ['Hand Sanitizer', 'Bread', 'Extension Cords',...            4   \n",
      "...                                                  ...          ...   \n",
      "29993         ['Bath Towels', 'Mop', 'Chips', 'Diapers']            8   \n",
      "29994                           ['Toilet Paper', 'Soda']           10   \n",
      "29995  ['Butter', 'Tuna', 'Vinegar', 'Shower Gel', 'O...            7   \n",
      "29996                                          ['Honey']            8   \n",
      "29997                    ['Ironing Board', 'Toothbrush']            7   \n",
      "\n",
      "       Total_Price  Payment_Method           City         Store_Type  \\\n",
      "0            12.77      Debit Card       New York  Convenience Store   \n",
      "1            13.88      Debit Card        Houston        Supermarket   \n",
      "2            47.02      Debit Card          Miami  Convenience Store   \n",
      "3            83.86  Mobile Payment        Seattle     Warehouse Club   \n",
      "4            30.55      Debit Card        Houston     Warehouse Club   \n",
      "...            ...             ...            ...                ...   \n",
      "29993        73.93            Cash  San Francisco   Department Store   \n",
      "29994        31.57     Credit Card        Atlanta     Warehouse Club   \n",
      "29995        31.74      Debit Card       New York        Supermarket   \n",
      "29996         5.84            Cash        Chicago           Pharmacy   \n",
      "29997        51.10     Credit Card    Los Angeles        Supermarket   \n",
      "\n",
      "      Discount_Applied Customer_Category  Season                   Promotion  \n",
      "0                 True           Student  Winter                        None  \n",
      "1                False      Professional    Fall      BOGO (Buy One Get One)  \n",
      "2                False       Young Adult  Winter                        None  \n",
      "3                 True    Senior Citizen  Summer  Discount on Selected Items  \n",
      "4                False    Senior Citizen  Spring                        None  \n",
      "...                ...               ...     ...                         ...  \n",
      "29993             True          Teenager  Summer      BOGO (Buy One Get One)  \n",
      "29994            False          Teenager    Fall  Discount on Selected Items  \n",
      "29995             True      Professional  Spring  Discount on Selected Items  \n",
      "29996             True      Professional  Summer  Discount on Selected Items  \n",
      "29997             True       Young Adult    Fall  Discount on Selected Items  \n",
      "\n",
      "[29998 rows x 13 columns]\n"
     ]
    }
   ],
   "source": [
    "df2['Date'] = pd.to_datetime(df2['Date']).dt.strftime('%H')\n",
    "df2 = df2.rename(columns={'Date': 'Time'})\n",
    "df2 = df2.rename(columns={'Total_Cost': 'Total_Price'})\n",
    "print(df2)"
   ]
  },
  {
   "cell_type": "code",
   "execution_count": 12,
   "id": "f7c74ece-fa82-4816-a6ef-c9af8bead31b",
   "metadata": {},
   "outputs": [
    {
     "name": "stdout",
     "output_type": "stream",
     "text": [
      "       Transaction_ID Time       Customer_Name  \\\n",
      "0          1000000000   19     Cheyenne Newman   \n",
      "1          1000000001   07    Emily Fitzgerald   \n",
      "2          1000000002   06        Michael Webb   \n",
      "3          1000000003   05        Kimberly Lin   \n",
      "4          1000000004   07     Cathy Hernandez   \n",
      "...               ...  ...                 ...   \n",
      "29993      1000029993   22  Casey Jennings DDS   \n",
      "29994      1000029994   03        Leah Aguilar   \n",
      "29995      1000029995   06      Candice Wilson   \n",
      "29996      1000029996   17              Jay Yu   \n",
      "29997      1000029997   07        Larry Miller   \n",
      "\n",
      "                                                 Product  Total_Items  \\\n",
      "0                                           ['Hair Gel']            6   \n",
      "1             ['Tuna', 'Bread', 'Tissues', 'Trash Bags']            5   \n",
      "2                             ['Jam', 'Soap', 'Ketchup']            7   \n",
      "3                                          ['BBQ Sauce']            9   \n",
      "4      ['Hand Sanitizer', 'Bread', 'Extension Cords',...            4   \n",
      "...                                                  ...          ...   \n",
      "29993         ['Bath Towels', 'Mop', 'Chips', 'Diapers']            8   \n",
      "29994                           ['Toilet Paper', 'Soda']           10   \n",
      "29995  ['Butter', 'Tuna', 'Vinegar', 'Shower Gel', 'O...            7   \n",
      "29996                                          ['Honey']            8   \n",
      "29997                    ['Ironing Board', 'Toothbrush']            7   \n",
      "\n",
      "       Total_Price  Payment_Method  Season                   Promotion  \n",
      "0            12.77      Debit Card  Winter                        None  \n",
      "1            13.88      Debit Card    Fall      BOGO (Buy One Get One)  \n",
      "2            47.02      Debit Card  Winter                        None  \n",
      "3            83.86  Mobile Payment  Summer  Discount on Selected Items  \n",
      "4            30.55      Debit Card  Spring                        None  \n",
      "...            ...             ...     ...                         ...  \n",
      "29993        73.93            Cash  Summer      BOGO (Buy One Get One)  \n",
      "29994        31.57     Credit Card    Fall  Discount on Selected Items  \n",
      "29995        31.74      Debit Card  Spring  Discount on Selected Items  \n",
      "29996         5.84            Cash  Summer  Discount on Selected Items  \n",
      "29997        51.10     Credit Card    Fall  Discount on Selected Items  \n",
      "\n",
      "[29998 rows x 9 columns]\n"
     ]
    }
   ],
   "source": [
    "df2 = df2.drop('City', axis=1)\n",
    "df2 = df2.drop('Discount_Applied', axis=1)\n",
    "df2 = df2.drop('Customer_Category', axis=1)\n",
    "df2 = df2.drop('Store_Type', axis=1)\n",
    "print(df2)"
   ]
  },
  {
   "cell_type": "code",
   "execution_count": 13,
   "id": "afd79696-468c-4b38-9b4f-cec42d36c86d",
   "metadata": {},
   "outputs": [
    {
     "name": "stdout",
     "output_type": "stream",
     "text": [
      "       Transaction_ID Time       Customer_Name  \\\n",
      "0          1000000000   19     Cheyenne Newman   \n",
      "1          1000000001   07    Emily Fitzgerald   \n",
      "2          1000000002   06        Michael Webb   \n",
      "3          1000000003   05        Kimberly Lin   \n",
      "4          1000000004   07     Cathy Hernandez   \n",
      "...               ...  ...                 ...   \n",
      "29993      1000029993   22  Casey Jennings DDS   \n",
      "29994      1000029994   03        Leah Aguilar   \n",
      "29995      1000029995   06      Candice Wilson   \n",
      "29996      1000029996   17              Jay Yu   \n",
      "29997      1000029997   07        Larry Miller   \n",
      "\n",
      "                                                 Product  Total_Items  \\\n",
      "0                                           ['Hair Gel']            6   \n",
      "1             ['Tuna', 'Bread', 'Tissues', 'Trash Bags']            5   \n",
      "2                             ['Jam', 'Soap', 'Ketchup']            7   \n",
      "3                                          ['BBQ Sauce']            9   \n",
      "4      ['Hand Sanitizer', 'Bread', 'Extension Cords',...            4   \n",
      "...                                                  ...          ...   \n",
      "29993         ['Bath Towels', 'Mop', 'Chips', 'Diapers']            8   \n",
      "29994                           ['Toilet Paper', 'Soda']           10   \n",
      "29995  ['Butter', 'Tuna', 'Vinegar', 'Shower Gel', 'O...            7   \n",
      "29996                                          ['Honey']            8   \n",
      "29997                    ['Ironing Board', 'Toothbrush']            7   \n",
      "\n",
      "       Total_Price  Payment_Method  Season                   Promotion  \n",
      "0            12.77      Debit Card  Winter                        None  \n",
      "1            13.88      Debit Card    Fall      BOGO (Buy One Get One)  \n",
      "2            47.02      Debit Card  Winter                        None  \n",
      "3            83.86  Mobile Payment  Summer  Discount on Selected Items  \n",
      "4            30.55      Debit Card  Spring                        None  \n",
      "...            ...             ...     ...                         ...  \n",
      "29993        73.93            Cash  Summer      BOGO (Buy One Get One)  \n",
      "29994        31.57     Credit Card    Fall  Discount on Selected Items  \n",
      "29995        31.74      Debit Card  Spring  Discount on Selected Items  \n",
      "29996         5.84            Cash  Summer  Discount on Selected Items  \n",
      "29997        51.10     Credit Card    Fall  Discount on Selected Items  \n",
      "\n",
      "[29998 rows x 9 columns]\n"
     ]
    }
   ],
   "source": [
    "print(df2)"
   ]
  },
  {
   "cell_type": "code",
   "execution_count": 14,
   "id": "749c5fd7-e09e-443e-8a0b-d22456d62ccf",
   "metadata": {},
   "outputs": [],
   "source": [
    "coltoadd = pd.DataFrame({'Customer_Name': df2['Customer_Name'].copy()})\n",
    "df.insert(1, 'Customer_name', coltoadd )"
   ]
  },
  {
   "cell_type": "code",
   "execution_count": 15,
   "id": "44a67a12-b4c3-4c86-a0d1-b208cb723504",
   "metadata": {},
   "outputs": [
    {
     "name": "stdout",
     "output_type": "stream",
     "text": [
      "       Customer_id     Customer_name  Gender  Age  Annual_Income  \\\n",
      "0                1   Cheyenne Newman    Male   19             15   \n",
      "1                2  Emily Fitzgerald    Male   21             15   \n",
      "2                3      Michael Webb  Female   20             16   \n",
      "3                4      Kimberly Lin  Female   23             16   \n",
      "4                5   Cathy Hernandez  Female   31             17   \n",
      "...            ...               ...     ...  ...            ...   \n",
      "14995        14996        Kyle Smith    Male   40            205   \n",
      "14996        14997       Jared Smith  Female   46            116   \n",
      "14997        14998      John Griffin    Male   19             77   \n",
      "14998        14999    Michael Palmer    Male   20             55   \n",
      "14999        15000       Megan Drake    Male   76             75   \n",
      "\n",
      "       Spending_Score  Membership  \n",
      "0                  39           1  \n",
      "1                  81           0  \n",
      "2                   6           1  \n",
      "3                  77           0  \n",
      "4                  40           1  \n",
      "...               ...         ...  \n",
      "14995              25           1  \n",
      "14996              11           0  \n",
      "14997              49           0  \n",
      "14998              50           1  \n",
      "14999              39           0  \n",
      "\n",
      "[15000 rows x 7 columns]\n"
     ]
    }
   ],
   "source": [
    "print(df)\n"
   ]
  },
  {
   "cell_type": "code",
   "execution_count": 16,
   "id": "fb4f4655-098a-41e0-8a41-e851820ddf6f",
   "metadata": {},
   "outputs": [
    {
     "name": "stdout",
     "output_type": "stream",
     "text": [
      "Index(['Time_id', 'Time', 'Season'], dtype='object') Index(['Transaction_ID', 'Time', 'Customer_Name', 'Product', 'Total_Items',\n",
      "       'Total_Price', 'Payment_Method', 'Season', 'Promotion'],\n",
      "      dtype='object')\n"
     ]
    }
   ],
   "source": [
    "df3 = pd.DataFrame({'Time': df2['Time'].copy()})\n",
    "coltoadd2 = pd.DataFrame({'Season': df2['Season'].copy()})\n",
    "df3['Season'] = coltoadd2 \n",
    "df3.insert(0, 'Time_id', range(1, len(df3) + 1))\n",
    "print(df3.columns,df2.columns)"
   ]
  },
  {
   "cell_type": "code",
   "execution_count": 17,
   "id": "312f6a8f-63b4-4b07-ab02-d5121d5a498a",
   "metadata": {},
   "outputs": [
    {
     "name": "stdout",
     "output_type": "stream",
     "text": [
      "       Time_id Time  Season\n",
      "0            1   19  Winter\n",
      "1            2   07    Fall\n",
      "2            3   06  Winter\n",
      "3            4   05  Summer\n",
      "4            5   07  Spring\n",
      "...        ...  ...     ...\n",
      "29993    29994   22  Summer\n",
      "29994    29995   03    Fall\n",
      "29995    29996   06  Spring\n",
      "29996    29997   17  Summer\n",
      "29997    29998   07    Fall\n",
      "\n",
      "[29998 rows x 3 columns]\n"
     ]
    }
   ],
   "source": [
    "print(df3)"
   ]
  },
  {
   "cell_type": "code",
   "execution_count": 18,
   "id": "c8e234ed-6afb-4281-b7f8-ef437c9058a4",
   "metadata": {},
   "outputs": [
    {
     "name": "stdout",
     "output_type": "stream",
     "text": [
      "       Transaction_id  Total_Items  Total_Price  Payment_Method  \\\n",
      "0          1000000000            6        12.77      Debit Card   \n",
      "1          1000000001            5        13.88      Debit Card   \n",
      "2          1000000002            7        47.02      Debit Card   \n",
      "3          1000000003            9        83.86  Mobile Payment   \n",
      "4          1000000004            4        30.55      Debit Card   \n",
      "...               ...          ...          ...             ...   \n",
      "29993      1000029993            8        73.93            Cash   \n",
      "29994      1000029994           10        31.57     Credit Card   \n",
      "29995      1000029995            7        31.74      Debit Card   \n",
      "29996      1000029996            8         5.84            Cash   \n",
      "29997      1000029997            7        51.10     Credit Card   \n",
      "\n",
      "                        Promotion  \n",
      "0                            None  \n",
      "1          BOGO (Buy One Get One)  \n",
      "2                            None  \n",
      "3      Discount on Selected Items  \n",
      "4                            None  \n",
      "...                           ...  \n",
      "29993      BOGO (Buy One Get One)  \n",
      "29994  Discount on Selected Items  \n",
      "29995  Discount on Selected Items  \n",
      "29996  Discount on Selected Items  \n",
      "29997  Discount on Selected Items  \n",
      "\n",
      "[29998 rows x 5 columns]\n"
     ]
    }
   ],
   "source": [
    "df2 = df2.drop('Time', axis=1)\n",
    "df2 = df2.drop('Customer_Name', axis=1)\n",
    "df2 = df2.drop('Season', axis=1)\n",
    "df2 = df2.drop('Product', axis=1)\n",
    "df2 = df2.rename(columns={'Transaction_ID': 'Transaction_id'})\n",
    "print(df2)"
   ]
  },
  {
   "cell_type": "code",
   "execution_count": 19,
   "id": "35add480-15bb-44f2-bf75-76ea5a58616c",
   "metadata": {},
   "outputs": [
    {
     "name": "stdout",
     "output_type": "stream",
     "text": [
      "Index(['Customer_id', 'Customer_name', 'Gender', 'Age', 'Annual_Income',\n",
      "       'Spending_Score', 'Membership'],\n",
      "      dtype='object')\n",
      "Index(['Store_id', 'Store_Area', 'Items_Available', 'Daily_customer_count',\n",
      "       'Store_Sales'],\n",
      "      dtype='object')\n",
      "Index(['Transaction_id', 'Total_Items', 'Total_Price', 'Payment_Method',\n",
      "       'Promotion'],\n",
      "      dtype='object')\n",
      "Index(['Time_id', 'Time', 'Season'], dtype='object')\n"
     ]
    }
   ],
   "source": [
    "print(df.columns)\n",
    "print(df1.columns)\n",
    "print(df2.columns)\n",
    "print(df3.columns)"
   ]
  },
  {
   "cell_type": "code",
   "execution_count": 20,
   "id": "e6ffc694-76e4-4455-baa7-aa01e43f2414",
   "metadata": {},
   "outputs": [],
   "source": [
    "import pandas as pd\n",
    "import random\n",
    "shorter_df = df1 if len(df1) < len(df2) else df2\n",
    "longer_df = df2 if len(df1) < len(df2) else df1"
   ]
  },
  {
   "cell_type": "code",
   "execution_count": 21,
   "id": "0d24962d-cf7b-4406-98ff-ab4a42a03c62",
   "metadata": {},
   "outputs": [
    {
     "name": "stdout",
     "output_type": "stream",
     "text": [
      "     Store_id  Store_Area  Items_Available  Daily_customer_count  Store_Sales\n",
      "0           1        1659             1961                   530        66490\n",
      "1           2        1461             1752                   210        39820\n",
      "2           3        1340             1609                   720        54010\n",
      "3           4        1451             1748                   620        53730\n",
      "4           5        1770             2111                   450        46620\n",
      "..        ...         ...              ...                   ...          ...\n",
      "891       892        1582             1910                  1080        66390\n",
      "892       893        1387             1663                   850        82080\n",
      "893       894        1200             1436                  1060        76440\n",
      "894       895        1299             1560                   770        96610\n",
      "895       896        1174             1429                  1110        54340\n",
      "\n",
      "[896 rows x 5 columns]\n",
      "       Transaction_id  Total_Items  Total_Price  Payment_Method  \\\n",
      "0          1000000000            6        12.77      Debit Card   \n",
      "1          1000000001            5        13.88      Debit Card   \n",
      "2          1000000002            7        47.02      Debit Card   \n",
      "3          1000000003            9        83.86  Mobile Payment   \n",
      "4          1000000004            4        30.55      Debit Card   \n",
      "...               ...          ...          ...             ...   \n",
      "29993      1000029993            8        73.93            Cash   \n",
      "29994      1000029994           10        31.57     Credit Card   \n",
      "29995      1000029995            7        31.74      Debit Card   \n",
      "29996      1000029996            8         5.84            Cash   \n",
      "29997      1000029997            7        51.10     Credit Card   \n",
      "\n",
      "                        Promotion  \n",
      "0                            None  \n",
      "1          BOGO (Buy One Get One)  \n",
      "2                            None  \n",
      "3      Discount on Selected Items  \n",
      "4                            None  \n",
      "...                           ...  \n",
      "29993      BOGO (Buy One Get One)  \n",
      "29994  Discount on Selected Items  \n",
      "29995  Discount on Selected Items  \n",
      "29996  Discount on Selected Items  \n",
      "29997  Discount on Selected Items  \n",
      "\n",
      "[29998 rows x 5 columns]\n"
     ]
    }
   ],
   "source": [
    "print(shorter_df)\n",
    "print(longer_df)"
   ]
  },
  {
   "cell_type": "code",
   "execution_count": 22,
   "id": "f3b8652f-224f-4760-9a94-3cab1a711223",
   "metadata": {},
   "outputs": [],
   "source": [
    "shorter_df = shorter_df.sample(n=len(longer_df), replace=True).reset_index(drop=True)"
   ]
  },
  {
   "cell_type": "code",
   "execution_count": 23,
   "id": "4df14ace-ddd5-4ba4-a1fa-5bc2e3ad98d0",
   "metadata": {},
   "outputs": [],
   "source": [
    "df4 = pd.merge(longer_df, shorter_df, left_index=True, right_index=True, how='outer', suffixes=('_df1', '_df2'))"
   ]
  },
  {
   "cell_type": "code",
   "execution_count": 24,
   "id": "694fdd2d-a01a-4e08-89af-843efeec33d1",
   "metadata": {},
   "outputs": [
    {
     "name": "stdout",
     "output_type": "stream",
     "text": [
      "       Transaction_id  Total_Items  Total_Price  Payment_Method  \\\n",
      "0          1000000000            6        12.77      Debit Card   \n",
      "1          1000000001            5        13.88      Debit Card   \n",
      "2          1000000002            7        47.02      Debit Card   \n",
      "3          1000000003            9        83.86  Mobile Payment   \n",
      "4          1000000004            4        30.55      Debit Card   \n",
      "...               ...          ...          ...             ...   \n",
      "29993      1000029993            8        73.93            Cash   \n",
      "29994      1000029994           10        31.57     Credit Card   \n",
      "29995      1000029995            7        31.74      Debit Card   \n",
      "29996      1000029996            8         5.84            Cash   \n",
      "29997      1000029997            7        51.10     Credit Card   \n",
      "\n",
      "                        Promotion  Store_id  Store_Area  Items_Available  \\\n",
      "0                            None       587        1609             1930   \n",
      "1          BOGO (Buy One Get One)       656        1193             1430   \n",
      "2                            None       211        1309             1572   \n",
      "3      Discount on Selected Items       663        1211             1447   \n",
      "4                            None       851        1977             2362   \n",
      "...                           ...       ...         ...              ...   \n",
      "29993      BOGO (Buy One Get One)       754        1453             1749   \n",
      "29994  Discount on Selected Items       864        1180             1397   \n",
      "29995  Discount on Selected Items       789        1441             1747   \n",
      "29996  Discount on Selected Items       289        1386             1674   \n",
      "29997  Discount on Selected Items       548        1141             1353   \n",
      "\n",
      "       Daily_customer_count  Store_Sales  \n",
      "0                       740        76470  \n",
      "1                       560        80830  \n",
      "2                       510        52280  \n",
      "3                      1110        40730  \n",
      "4                      1020        59950  \n",
      "...                     ...          ...  \n",
      "29993                   890        58440  \n",
      "29994                   750        39140  \n",
      "29995                   670        44370  \n",
      "29996                  1210        58610  \n",
      "29997                  1370        72000  \n",
      "\n",
      "[29998 rows x 10 columns]\n"
     ]
    }
   ],
   "source": [
    "print(df4)"
   ]
  },
  {
   "cell_type": "code",
   "execution_count": 25,
   "id": "2141f752-b054-451b-9a1f-debbe3693622",
   "metadata": {},
   "outputs": [],
   "source": [
    "import pandas as pd\n",
    "import random\n",
    "shorter_df = df4 if len(df4) < len(df) else df\n",
    "longer_df = df if len(df4) < len(df) else df4"
   ]
  },
  {
   "cell_type": "code",
   "execution_count": 26,
   "id": "a2089842-79ba-4100-9cc7-656c359720ce",
   "metadata": {},
   "outputs": [],
   "source": [
    "shorter_df = shorter_df.sample(n=len(longer_df), replace=True).reset_index(drop=True)"
   ]
  },
  {
   "cell_type": "code",
   "execution_count": 27,
   "id": "3f3ba3f9-cb8d-4412-aa04-61119d0118b1",
   "metadata": {},
   "outputs": [],
   "source": [
    "df5 = pd.merge(longer_df, shorter_df, left_index=True, right_index=True, how='outer', suffixes=('_df1', '_df2'))"
   ]
  },
  {
   "cell_type": "code",
   "execution_count": 28,
   "id": "b751b22e-74a4-420a-8bad-18d2b259cd3d",
   "metadata": {},
   "outputs": [
    {
     "name": "stdout",
     "output_type": "stream",
     "text": [
      "       Transaction_id  Total_Items  Total_Price  Payment_Method  \\\n",
      "0          1000000000            6        12.77      Debit Card   \n",
      "1          1000000001            5        13.88      Debit Card   \n",
      "2          1000000002            7        47.02      Debit Card   \n",
      "3          1000000003            9        83.86  Mobile Payment   \n",
      "4          1000000004            4        30.55      Debit Card   \n",
      "...               ...          ...          ...             ...   \n",
      "29993      1000029993            8        73.93            Cash   \n",
      "29994      1000029994           10        31.57     Credit Card   \n",
      "29995      1000029995            7        31.74      Debit Card   \n",
      "29996      1000029996            8         5.84            Cash   \n",
      "29997      1000029997            7        51.10     Credit Card   \n",
      "\n",
      "                        Promotion  Store_id  Store_Area  Items_Available  \\\n",
      "0                            None       587        1609             1930   \n",
      "1          BOGO (Buy One Get One)       656        1193             1430   \n",
      "2                            None       211        1309             1572   \n",
      "3      Discount on Selected Items       663        1211             1447   \n",
      "4                            None       851        1977             2362   \n",
      "...                           ...       ...         ...              ...   \n",
      "29993      BOGO (Buy One Get One)       754        1453             1749   \n",
      "29994  Discount on Selected Items       864        1180             1397   \n",
      "29995  Discount on Selected Items       789        1441             1747   \n",
      "29996  Discount on Selected Items       289        1386             1674   \n",
      "29997  Discount on Selected Items       548        1141             1353   \n",
      "\n",
      "       Daily_customer_count  Store_Sales  Customer_id      Customer_name  \\\n",
      "0                       740        76470         4066    Gina Fitzgerald   \n",
      "1                       560        80830         9173        Dawn Garcia   \n",
      "2                       510        52280        11704        Don Nichols   \n",
      "3                      1110        40730         3510     Courtney Perez   \n",
      "4                      1020        59950         8833   Whitney Gonzalez   \n",
      "...                     ...          ...          ...                ...   \n",
      "29993                   890        58440           40        Joanne Wood   \n",
      "29994                   750        39140         4847         Jon Walton   \n",
      "29995                   670        44370         9650         Roy Jensen   \n",
      "29996                  1210        58610        10232      Daniel Wilcox   \n",
      "29997                  1370        72000        14790  William Hernandez   \n",
      "\n",
      "       Gender  Age  Annual_Income  Spending_Score  Membership  \n",
      "0        Male   30            276              38           1  \n",
      "1        Male   20            178              40           0  \n",
      "2      Female   51             60              58           0  \n",
      "3      Female   46            120              91           0  \n",
      "4        Male   17             92              60           0  \n",
      "...       ...  ...            ...             ...         ...  \n",
      "29993  Female   20             37              75           1  \n",
      "29994  Female   74            157              97           0  \n",
      "29995    Male   19            167              80           1  \n",
      "29996    Male   49            280              72           0  \n",
      "29997  Female   27            254              81           1  \n",
      "\n",
      "[29998 rows x 17 columns]\n"
     ]
    }
   ],
   "source": [
    "print(df5)\n"
   ]
  },
  {
   "cell_type": "code",
   "execution_count": 29,
   "id": "aa159e65-1638-4d03-975f-b4072cb562be",
   "metadata": {},
   "outputs": [],
   "source": [
    "df5 = pd.merge(df5, df3, left_index=True, right_index=True, how='outer', suffixes=('_df5', '_df3'))"
   ]
  },
  {
   "cell_type": "code",
   "execution_count": 30,
   "id": "ccd556da-ed46-4cd3-be0d-f87afcb5b6cb",
   "metadata": {},
   "outputs": [],
   "source": [
    "df5 = df5.drop('Season', axis=1)\n",
    "df5 = df5.drop('Time', axis=1)\n",
    "df5 = df5.drop('Payment_Method', axis=1)\n",
    "df5 = df5.drop('Promotion', axis=1)\n",
    "df5 = df5.drop('Store_Area', axis=1)\n",
    "df5 = df5.drop('Customer_name', axis=1)\n",
    "df5 = df5.drop('Gender', axis=1)\n",
    "df5 = df5.drop('Age', axis=1)\n",
    "df5 = df5.drop('Annual_Income', axis=1)\n",
    "df5 = df5.drop('Spending_Score', axis=1)\n",
    "df5 = df5.drop('Membership', axis=1)     \n",
    "    \n",
    "df5 = df5.drop('Items_Available', axis=1)\n"
   ]
  },
  {
   "cell_type": "code",
   "execution_count": 31,
   "id": "5e46a949-05ba-4faf-a862-8a8f1347de0b",
   "metadata": {},
   "outputs": [],
   "source": [
    "column_order = ['Transaction_id', 'Store_id', 'Time_id','Customer_id','Total_Items','Total_Price','Daily_customer_count','Store_Sales']\n",
    "df5 = df5[column_order]\n"
   ]
  },
  {
   "cell_type": "code",
   "execution_count": 32,
   "id": "be9fc173-cdd1-4021-bdc0-cb79e9bcfa2b",
   "metadata": {},
   "outputs": [
    {
     "name": "stdout",
     "output_type": "stream",
     "text": [
      "       Transaction_id  Store_id  Time_id  Customer_id  Total_Items  \\\n",
      "0          1000000000       587        1         4066            6   \n",
      "1          1000000001       656        2         9173            5   \n",
      "2          1000000002       211        3        11704            7   \n",
      "3          1000000003       663        4         3510            9   \n",
      "4          1000000004       851        5         8833            4   \n",
      "...               ...       ...      ...          ...          ...   \n",
      "29993      1000029993       754    29994           40            8   \n",
      "29994      1000029994       864    29995         4847           10   \n",
      "29995      1000029995       789    29996         9650            7   \n",
      "29996      1000029996       289    29997        10232            8   \n",
      "29997      1000029997       548    29998        14790            7   \n",
      "\n",
      "       Total_Price  Daily_customer_count  Store_Sales  \n",
      "0            12.77                   740        76470  \n",
      "1            13.88                   560        80830  \n",
      "2            47.02                   510        52280  \n",
      "3            83.86                  1110        40730  \n",
      "4            30.55                  1020        59950  \n",
      "...            ...                   ...          ...  \n",
      "29993        73.93                   890        58440  \n",
      "29994        31.57                   750        39140  \n",
      "29995        31.74                   670        44370  \n",
      "29996         5.84                  1210        58610  \n",
      "29997        51.10                  1370        72000  \n",
      "\n",
      "[29998 rows x 8 columns]\n"
     ]
    }
   ],
   "source": [
    "print(df5)"
   ]
  },
  {
   "cell_type": "code",
   "execution_count": 33,
   "id": "5f5752bd-556f-4f5d-8497-635182d6683b",
   "metadata": {},
   "outputs": [
    {
     "name": "stdout",
     "output_type": "stream",
     "text": [
      "       Transaction_id  Total_Items  Total_Price  Payment_Method  \\\n",
      "0          1000000000            6        12.77      Debit Card   \n",
      "1          1000000001            5        13.88      Debit Card   \n",
      "2          1000000002            7        47.02      Debit Card   \n",
      "3          1000000003            9        83.86  Mobile Payment   \n",
      "4          1000000004            4        30.55      Debit Card   \n",
      "...               ...          ...          ...             ...   \n",
      "29993      1000029993            8        73.93            Cash   \n",
      "29994      1000029994           10        31.57     Credit Card   \n",
      "29995      1000029995            7        31.74      Debit Card   \n",
      "29996      1000029996            8         5.84            Cash   \n",
      "29997      1000029997            7        51.10     Credit Card   \n",
      "\n",
      "                        Promotion  \n",
      "0                            None  \n",
      "1          BOGO (Buy One Get One)  \n",
      "2                            None  \n",
      "3      Discount on Selected Items  \n",
      "4                            None  \n",
      "...                           ...  \n",
      "29993      BOGO (Buy One Get One)  \n",
      "29994  Discount on Selected Items  \n",
      "29995  Discount on Selected Items  \n",
      "29996  Discount on Selected Items  \n",
      "29997  Discount on Selected Items  \n",
      "\n",
      "[29998 rows x 5 columns]\n"
     ]
    }
   ],
   "source": [
    "print(df2)"
   ]
  },
  {
   "cell_type": "code",
   "execution_count": 34,
   "id": "bc9296bb-fb8a-422d-a094-0c3584ed1d3c",
   "metadata": {},
   "outputs": [],
   "source": [
    "df2 = df2.drop('Total_Items', axis=1)\n",
    "df2 = df2.drop('Total_Price', axis=1)\n"
   ]
  },
  {
   "cell_type": "code",
   "execution_count": 35,
   "id": "a574e5ec-c27a-4182-a81a-f84214fabae7",
   "metadata": {},
   "outputs": [
    {
     "name": "stdout",
     "output_type": "stream",
     "text": [
      "       Transaction_id  Payment_Method                   Promotion\n",
      "0          1000000000      Debit Card                        None\n",
      "1          1000000001      Debit Card      BOGO (Buy One Get One)\n",
      "2          1000000002      Debit Card                        None\n",
      "3          1000000003  Mobile Payment  Discount on Selected Items\n",
      "4          1000000004      Debit Card                        None\n",
      "...               ...             ...                         ...\n",
      "29993      1000029993            Cash      BOGO (Buy One Get One)\n",
      "29994      1000029994     Credit Card  Discount on Selected Items\n",
      "29995      1000029995      Debit Card  Discount on Selected Items\n",
      "29996      1000029996            Cash  Discount on Selected Items\n",
      "29997      1000029997     Credit Card  Discount on Selected Items\n",
      "\n",
      "[29998 rows x 3 columns]\n"
     ]
    }
   ],
   "source": [
    "print(df2)"
   ]
  },
  {
   "cell_type": "code",
   "execution_count": 36,
   "id": "9bdcba3c-e2ca-401b-a466-98c7f2bbd8f2",
   "metadata": {},
   "outputs": [
    {
     "name": "stdout",
     "output_type": "stream",
     "text": [
      "     Store_id  Store_Area  Items_Available  Daily_customer_count  Store_Sales\n",
      "0           1        1659             1961                   530        66490\n",
      "1           2        1461             1752                   210        39820\n",
      "2           3        1340             1609                   720        54010\n",
      "3           4        1451             1748                   620        53730\n",
      "4           5        1770             2111                   450        46620\n",
      "..        ...         ...              ...                   ...          ...\n",
      "891       892        1582             1910                  1080        66390\n",
      "892       893        1387             1663                   850        82080\n",
      "893       894        1200             1436                  1060        76440\n",
      "894       895        1299             1560                   770        96610\n",
      "895       896        1174             1429                  1110        54340\n",
      "\n",
      "[896 rows x 5 columns]\n"
     ]
    }
   ],
   "source": [
    "print(df1)"
   ]
  },
  {
   "cell_type": "code",
   "execution_count": 37,
   "id": "e46abee2-994f-41bb-aa3a-7b4d526e514e",
   "metadata": {},
   "outputs": [],
   "source": [
    "df1 = df1.drop('Daily_customer_count', axis=1)\n",
    "df1 = df1.drop('Store_Sales', axis=1)\n"
   ]
  },
  {
   "cell_type": "code",
   "execution_count": 38,
   "id": "845ee595-b4b2-444a-893c-24b47059f2da",
   "metadata": {},
   "outputs": [
    {
     "name": "stdout",
     "output_type": "stream",
     "text": [
      "     Store_id  Store_Area  Items_Available\n",
      "0           1        1659             1961\n",
      "1           2        1461             1752\n",
      "2           3        1340             1609\n",
      "3           4        1451             1748\n",
      "4           5        1770             2111\n",
      "..        ...         ...              ...\n",
      "891       892        1582             1910\n",
      "892       893        1387             1663\n",
      "893       894        1200             1436\n",
      "894       895        1299             1560\n",
      "895       896        1174             1429\n",
      "\n",
      "[896 rows x 3 columns]\n"
     ]
    }
   ],
   "source": [
    "print(df1)"
   ]
  },
  {
   "cell_type": "code",
   "execution_count": 39,
   "id": "b1ee8fe3-919d-4c04-93ab-14ea8b6dd35b",
   "metadata": {},
   "outputs": [],
   "source": [
    "df5 = df5.rename(columns={'Total_Price': 'Sales'})\n",
    "df5 = df5.rename(columns={'Total_Items': 'Quantity'})"
   ]
  },
  {
   "cell_type": "code",
   "execution_count": 40,
   "id": "4cfa6761-2699-4083-bc2d-afa1591a2ad5",
   "metadata": {},
   "outputs": [
    {
     "name": "stdout",
     "output_type": "stream",
     "text": [
      "       Transaction_id  Store_id  Time_id  Customer_id  Quantity  Sales  \\\n",
      "0          1000000000       587        1         4066         6  12.77   \n",
      "1          1000000001       656        2         9173         5  13.88   \n",
      "2          1000000002       211        3        11704         7  47.02   \n",
      "3          1000000003       663        4         3510         9  83.86   \n",
      "4          1000000004       851        5         8833         4  30.55   \n",
      "...               ...       ...      ...          ...       ...    ...   \n",
      "29993      1000029993       754    29994           40         8  73.93   \n",
      "29994      1000029994       864    29995         4847        10  31.57   \n",
      "29995      1000029995       789    29996         9650         7  31.74   \n",
      "29996      1000029996       289    29997        10232         8   5.84   \n",
      "29997      1000029997       548    29998        14790         7  51.10   \n",
      "\n",
      "       Daily_customer_count  Store_Sales  \n",
      "0                       740        76470  \n",
      "1                       560        80830  \n",
      "2                       510        52280  \n",
      "3                      1110        40730  \n",
      "4                      1020        59950  \n",
      "...                     ...          ...  \n",
      "29993                   890        58440  \n",
      "29994                   750        39140  \n",
      "29995                   670        44370  \n",
      "29996                  1210        58610  \n",
      "29997                  1370        72000  \n",
      "\n",
      "[29998 rows x 8 columns]\n"
     ]
    }
   ],
   "source": [
    "print(df5)"
   ]
  },
  {
   "cell_type": "markdown",
   "id": "dccc79da-efe0-469a-b7b9-203cc43c6ace",
   "metadata": {},
   "source": [
    "# loading\n"
   ]
  },
  {
   "cell_type": "code",
   "execution_count": 41,
   "id": "90d5146d-f4e5-45ef-9de0-8295013fcdb0",
   "metadata": {},
   "outputs": [],
   "source": [
    "db_config = { 'host': '127.0.0.1', \n",
    "              'user': 'root', \n",
    "              'password': '', \n",
    "              'database': 'bi_project'}"
   ]
  },
  {
   "cell_type": "code",
   "execution_count": 42,
   "id": "e7378296-0c61-44f1-b239-6ac839fe0c5e",
   "metadata": {},
   "outputs": [],
   "source": [
    "# loading\n",
    "#pip install mysql-connector-python\n",
    "#pip install pymysql\n",
    "#pip install sqlalchemy pymysql\n",
    "import pymysql\n",
    "import mysql.connector\n",
    "from sqlalchemy import create_engine\n",
    "import pandas as pd\n"
   ]
  },
  {
   "cell_type": "code",
   "execution_count": 43,
   "id": "fc93c3fa-dd6f-4c0c-a98b-1d9b3b6f552c",
   "metadata": {},
   "outputs": [],
   "source": [
    "conn = mysql.connector.connect(**db_config)\n"
   ]
  },
  {
   "cell_type": "code",
   "execution_count": 44,
   "id": "bdd34581-dc6b-4003-8c5c-8f83a9694194",
   "metadata": {},
   "outputs": [],
   "source": [
    "engine = create_engine(f\"mysql+mysqlconnector://{db_config['user']}:{db_config['password']}@{db_config['host']}/{db_config['database']}\")"
   ]
  },
  {
   "cell_type": "code",
   "execution_count": 45,
   "id": "7675b729-37c7-406f-af93-69d94b123df2",
   "metadata": {},
   "outputs": [
    {
     "data": {
      "text/plain": [
       "15000"
      ]
     },
     "execution_count": 45,
     "metadata": {},
     "output_type": "execute_result"
    }
   ],
   "source": [
    "df.to_sql(name='customer_dim', con=engine, if_exists='append', index=False)"
   ]
  },
  {
   "cell_type": "code",
   "execution_count": 46,
   "id": "f42fea41-f72f-43e0-a68f-67b2eb1a6aa5",
   "metadata": {},
   "outputs": [
    {
     "data": {
      "text/plain": [
       "896"
      ]
     },
     "execution_count": 46,
     "metadata": {},
     "output_type": "execute_result"
    }
   ],
   "source": [
    "df1.to_sql(name='store_dim', con=engine, if_exists='append', index=False)"
   ]
  },
  {
   "cell_type": "code",
   "execution_count": 47,
   "id": "bafa0fe5-98f7-42fc-ba47-6c0027ade5f1",
   "metadata": {},
   "outputs": [
    {
     "data": {
      "text/plain": [
       "29998"
      ]
     },
     "execution_count": 47,
     "metadata": {},
     "output_type": "execute_result"
    }
   ],
   "source": [
    "df3.to_sql(name='time_dim', con=engine, if_exists='append', index=False)\n"
   ]
  },
  {
   "cell_type": "code",
   "execution_count": 48,
   "id": "3a9224b0-eceb-43ee-8892-f235ed7266a8",
   "metadata": {},
   "outputs": [
    {
     "data": {
      "text/plain": [
       "29998"
      ]
     },
     "execution_count": 48,
     "metadata": {},
     "output_type": "execute_result"
    }
   ],
   "source": [
    "df2.to_sql(name='transaction_dim', con=engine, if_exists='append', index=False)"
   ]
  },
  {
   "cell_type": "code",
   "execution_count": 49,
   "id": "626af92c-c3be-4aab-9016-a9dbd879d057",
   "metadata": {},
   "outputs": [
    {
     "data": {
      "text/plain": [
       "29998"
      ]
     },
     "execution_count": 49,
     "metadata": {},
     "output_type": "execute_result"
    }
   ],
   "source": [
    "df5.to_sql(name='retail_stores_sales', con=engine, if_exists='append', index=False)"
   ]
  },
  {
   "cell_type": "code",
   "execution_count": null,
   "id": "cfe867fd-0c3e-45eb-91f1-392e368c029c",
   "metadata": {},
   "outputs": [],
   "source": []
  }
 ],
 "metadata": {
  "kernelspec": {
   "display_name": "Python 3 (ipykernel)",
   "language": "python",
   "name": "python3"
  },
  "language_info": {
   "codemirror_mode": {
    "name": "ipython",
    "version": 3
   },
   "file_extension": ".py",
   "mimetype": "text/x-python",
   "name": "python",
   "nbconvert_exporter": "python",
   "pygments_lexer": "ipython3",
   "version": "3.12.1"
  }
 },
 "nbformat": 4,
 "nbformat_minor": 5
}
