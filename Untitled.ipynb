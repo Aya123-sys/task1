{
 "cells": [
  {
   "cell_type": "markdown",
   "id": "41bd9aa0-0316-4a57-bdae-06b660d34a59",
   "metadata": {},
   "source": [
    "# Importing all python packages required for this task \n"
   ]
  },
  {
   "cell_type": "code",
   "execution_count": 2,
   "id": "b3322802-744d-42a9-9cf9-6249cfa23794",
   "metadata": {},
   "outputs": [],
   "source": [
    "# you need to install the packages numpy on your computer command prompt(terminal) using this command \"pip install numpy\"\n",
    "import numpy as np\n",
    "# you need to install the packages pandas on your computer command prompt(terminal) using this command \"pip install pandas\"\n",
    "import pandas as pd\n",
    "# you need to install the packages matplotlib on your computer command prompt(terminal) using this command \"pip install matplotlib\"\n",
    "import matplotlib.pyplot as plt\n",
    "\n"
   ]
  },
  {
   "cell_type": "markdown",
   "id": "f5487f45-60a2-46ef-a3e9-0f0bb22c5357",
   "metadata": {},
   "source": [
    "# Importing the dataset from a csv file "
   ]
  },
  {
   "cell_type": "code",
   "execution_count": 3,
   "id": "76586b47-d2cb-4449-ab13-0a8572072a09",
   "metadata": {},
   "outputs": [
    {
     "name": "stdout",
     "output_type": "stream",
     "text": [
      "Data imported successfully\n",
      "25\n"
     ]
    }
   ],
   "source": [
    "url = \"http://bit.ly/w-data\"\n",
    "imp_data = pd.read_csv(url)\n",
    "print(\"Data imported successfully\")\n",
    "number_of_data_points = imp_data.shape[0]\n",
    "print(number_of_data_points)\n",
    "\n"
   ]
  },
  {
   "cell_type": "code",
   "execution_count": 13,
   "id": "90d5d09a-1e8f-4154-aae9-83ef25b154c1",
   "metadata": {},
   "outputs": [
    {
     "name": "stdout",
     "output_type": "stream",
     "text": [
      "the first ten data point\n"
     ]
    },
    {
     "data": {
      "text/html": [
       "<div>\n",
       "<style scoped>\n",
       "    .dataframe tbody tr th:only-of-type {\n",
       "        vertical-align: middle;\n",
       "    }\n",
       "\n",
       "    .dataframe tbody tr th {\n",
       "        vertical-align: top;\n",
       "    }\n",
       "\n",
       "    .dataframe thead th {\n",
       "        text-align: right;\n",
       "    }\n",
       "</style>\n",
       "<table border=\"1\" class=\"dataframe\">\n",
       "  <thead>\n",
       "    <tr style=\"text-align: right;\">\n",
       "      <th></th>\n",
       "      <th>Hours</th>\n",
       "      <th>Scores</th>\n",
       "    </tr>\n",
       "  </thead>\n",
       "  <tbody>\n",
       "    <tr>\n",
       "      <th>0</th>\n",
       "      <td>2.5</td>\n",
       "      <td>21</td>\n",
       "    </tr>\n",
       "    <tr>\n",
       "      <th>1</th>\n",
       "      <td>5.1</td>\n",
       "      <td>47</td>\n",
       "    </tr>\n",
       "    <tr>\n",
       "      <th>2</th>\n",
       "      <td>3.2</td>\n",
       "      <td>27</td>\n",
       "    </tr>\n",
       "    <tr>\n",
       "      <th>3</th>\n",
       "      <td>8.5</td>\n",
       "      <td>75</td>\n",
       "    </tr>\n",
       "    <tr>\n",
       "      <th>4</th>\n",
       "      <td>3.5</td>\n",
       "      <td>30</td>\n",
       "    </tr>\n",
       "    <tr>\n",
       "      <th>5</th>\n",
       "      <td>1.5</td>\n",
       "      <td>20</td>\n",
       "    </tr>\n",
       "    <tr>\n",
       "      <th>6</th>\n",
       "      <td>9.2</td>\n",
       "      <td>88</td>\n",
       "    </tr>\n",
       "    <tr>\n",
       "      <th>7</th>\n",
       "      <td>5.5</td>\n",
       "      <td>60</td>\n",
       "    </tr>\n",
       "    <tr>\n",
       "      <th>8</th>\n",
       "      <td>8.3</td>\n",
       "      <td>81</td>\n",
       "    </tr>\n",
       "    <tr>\n",
       "      <th>9</th>\n",
       "      <td>2.7</td>\n",
       "      <td>25</td>\n",
       "    </tr>\n",
       "  </tbody>\n",
       "</table>\n",
       "</div>"
      ],
      "text/plain": [
       "   Hours  Scores\n",
       "0    2.5      21\n",
       "1    5.1      47\n",
       "2    3.2      27\n",
       "3    8.5      75\n",
       "4    3.5      30\n",
       "5    1.5      20\n",
       "6    9.2      88\n",
       "7    5.5      60\n",
       "8    8.3      81\n",
       "9    2.7      25"
      ]
     },
     "execution_count": 13,
     "metadata": {},
     "output_type": "execute_result"
    }
   ],
   "source": [
    "print(\"the first ten data point\")\n",
    "imp_data.head(10)"
   ]
  },
  {
   "cell_type": "code",
   "execution_count": 4,
   "id": "79d7b6fd-3f07-4e27-b517-0c388c519e4c",
   "metadata": {},
   "outputs": [
    {
     "name": "stdout",
     "output_type": "stream",
     "text": [
      "the last ten data point\n"
     ]
    },
    {
     "data": {
      "text/html": [
       "<div>\n",
       "<style scoped>\n",
       "    .dataframe tbody tr th:only-of-type {\n",
       "        vertical-align: middle;\n",
       "    }\n",
       "\n",
       "    .dataframe tbody tr th {\n",
       "        vertical-align: top;\n",
       "    }\n",
       "\n",
       "    .dataframe thead th {\n",
       "        text-align: right;\n",
       "    }\n",
       "</style>\n",
       "<table border=\"1\" class=\"dataframe\">\n",
       "  <thead>\n",
       "    <tr style=\"text-align: right;\">\n",
       "      <th></th>\n",
       "      <th>Hours</th>\n",
       "      <th>Scores</th>\n",
       "    </tr>\n",
       "  </thead>\n",
       "  <tbody>\n",
       "    <tr>\n",
       "      <th>15</th>\n",
       "      <td>8.9</td>\n",
       "      <td>95</td>\n",
       "    </tr>\n",
       "    <tr>\n",
       "      <th>16</th>\n",
       "      <td>2.5</td>\n",
       "      <td>30</td>\n",
       "    </tr>\n",
       "    <tr>\n",
       "      <th>17</th>\n",
       "      <td>1.9</td>\n",
       "      <td>24</td>\n",
       "    </tr>\n",
       "    <tr>\n",
       "      <th>18</th>\n",
       "      <td>6.1</td>\n",
       "      <td>67</td>\n",
       "    </tr>\n",
       "    <tr>\n",
       "      <th>19</th>\n",
       "      <td>7.4</td>\n",
       "      <td>69</td>\n",
       "    </tr>\n",
       "    <tr>\n",
       "      <th>20</th>\n",
       "      <td>2.7</td>\n",
       "      <td>30</td>\n",
       "    </tr>\n",
       "    <tr>\n",
       "      <th>21</th>\n",
       "      <td>4.8</td>\n",
       "      <td>54</td>\n",
       "    </tr>\n",
       "    <tr>\n",
       "      <th>22</th>\n",
       "      <td>3.8</td>\n",
       "      <td>35</td>\n",
       "    </tr>\n",
       "    <tr>\n",
       "      <th>23</th>\n",
       "      <td>6.9</td>\n",
       "      <td>76</td>\n",
       "    </tr>\n",
       "    <tr>\n",
       "      <th>24</th>\n",
       "      <td>7.8</td>\n",
       "      <td>86</td>\n",
       "    </tr>\n",
       "  </tbody>\n",
       "</table>\n",
       "</div>"
      ],
      "text/plain": [
       "    Hours  Scores\n",
       "15    8.9      95\n",
       "16    2.5      30\n",
       "17    1.9      24\n",
       "18    6.1      67\n",
       "19    7.4      69\n",
       "20    2.7      30\n",
       "21    4.8      54\n",
       "22    3.8      35\n",
       "23    6.9      76\n",
       "24    7.8      86"
      ]
     },
     "execution_count": 4,
     "metadata": {},
     "output_type": "execute_result"
    }
   ],
   "source": [
    "print(\"the last ten data point\")\n",
    "imp_data.tail(10)"
   ]
  },
  {
   "cell_type": "markdown",
   "id": "d3743695-9ae6-4efa-beba-c76aa9e82e82",
   "metadata": {},
   "source": [
    "# Plotting the scatterplot of the explanatory varaible and the Response Variable"
   ]
  },
  {
   "cell_type": "code",
   "execution_count": 5,
   "id": "55067597-f3b5-42ed-ab8b-5a1771cc0fe0",
   "metadata": {},
   "outputs": [],
   "source": [
    "first_column_data = imp_data['Hours']\n",
    "second_column_data= imp_data['Scores']"
   ]
  },
  {
   "cell_type": "code",
   "execution_count": 6,
   "id": "6a15bca1-3e07-4f90-aaf7-249367c110b9",
   "metadata": {},
   "outputs": [
    {
     "data": {
      "image/png": "[encoded data removed]",
      "text/plain": [
       "<Figure size 640x480 with 1 Axes>"
      ]
     },
     "metadata": {},
     "output_type": "display_data"
    }
   ],
   "source": [
    "plt.scatter(first_column_data,second_column_data)\n",
    "plt.title('the relationship between the scores and hours of studies')  \n",
    "plt.xlabel('Hours Studied')  \n",
    "plt.ylabel('Percentage Score') \n",
    "plt.show()"
   ]
  },
  {
   "cell_type": "markdown",
   "id": "16f9a8b7-c386-4df3-93ea-c70daa586e66",
   "metadata": {},
   "source": [
    "# Creating the taining and test sets"
   ]
  },
  {
   "cell_type": "code",
   "execution_count": 7,
   "id": "42ca8084-aaef-49b2-ae49-9319fd764cf0",
   "metadata": {},
   "outputs": [
    {
     "name": "stdout",
     "output_type": "stream",
     "text": [
      "the result is a 1D numpy array\n",
      "[[2.5]\n",
      " [5.1]\n",
      " [3.2]\n",
      " [8.5]\n",
      " [3.5]\n",
      " [1.5]\n",
      " [9.2]\n",
      " [5.5]\n",
      " [8.3]\n",
      " [2.7]\n",
      " [7.7]\n",
      " [5.9]\n",
      " [4.5]\n",
      " [3.3]\n",
      " [1.1]\n",
      " [8.9]\n",
      " [2.5]\n",
      " [1.9]\n",
      " [6.1]\n",
      " [7.4]\n",
      " [2.7]\n",
      " [4.8]\n",
      " [3.8]\n",
      " [6.9]\n",
      " [7.8]]\n",
      "[21 47 27 75 30 20 88 60 81 25 85 62 41 42 17 95 30 24 67 69 30 54 35 76\n",
      " 86]\n"
     ]
    }
   ],
   "source": [
    "X = imp_data.iloc[:,:-1].values\n",
    "Y=imp_data.iloc[:, 1].values\n",
    "print('the result is a 1D numpy array')\n",
    "print(X)\n",
    "print(Y)"
   ]
  },
  {
   "cell_type": "code",
   "execution_count": 8,
   "id": "49df0066-8718-4ed7-871a-c76591041f6b",
   "metadata": {},
   "outputs": [],
   "source": [
    "#you have to import the skitlearn package on your computer via the terminal using this commmand\"pip install scikit-learn\n",
    "from sklearn.model_selection import train_test_split \n",
    "seed_value = 42\n",
    "X_train, X_test,Y_train , Y_test = train_test_split(X,Y, test_size=0.2, random_state=seed_value)\n"
   ]
  },
  {
   "cell_type": "code",
   "execution_count": 9,
   "id": "e35307a8-6970-4565-962f-6d235b1b320f",
   "metadata": {},
   "outputs": [
    {
     "name": "stdout",
     "output_type": "stream",
     "text": [
      "Training complete.\n"
     ]
    }
   ],
   "source": [
    "from sklearn.linear_model import LinearRegression  \n",
    "regressor = LinearRegression()  \n",
    "regressor.fit(X_train, Y_train) \n",
    "\n",
    "print(\"Training complete.\")"
   ]
  },
  {
   "cell_type": "markdown",
   "id": "49f03d80-cf46-4a28-96ce-0466e4aef7f4",
   "metadata": {},
   "source": [
    "# Plotting the regression line"
   ]
  },
  {
   "cell_type": "code",
   "execution_count": 10,
   "id": "e71e0270-164a-4e1f-a9d8-0e26ab117ade",
   "metadata": {},
   "outputs": [
    {
     "name": "stdout",
     "output_type": "stream",
     "text": [
      "[[27.03208774]\n",
      " [52.20549094]\n",
      " [33.80954245]\n",
      " [85.12455667]\n",
      " [36.71416589]\n",
      " [17.35000959]\n",
      " [91.90201137]\n",
      " [56.0783222 ]\n",
      " [83.18814104]\n",
      " [28.96850337]\n",
      " [77.37889414]\n",
      " [59.95115347]\n",
      " [46.39624405]\n",
      " [34.77775026]\n",
      " [13.47717832]\n",
      " [88.99738793]\n",
      " [27.03208774]\n",
      " [21.22284085]\n",
      " [61.8875691 ]\n",
      " [74.4742707 ]\n",
      " [28.96850337]\n",
      " [49.3008675 ]\n",
      " [39.61878934]\n",
      " [69.63323162]\n",
      " [78.34710196]]\n"
     ]
    },
    {
     "data": {
      "text/plain": [
       "[<matplotlib.lines.Line2D at 0x25fe7188290>]"
      ]
     },
     "execution_count": 10,
     "metadata": {},
     "output_type": "execute_result"
    },
    {
     "data": {
      "image/png": "[encoded data removed]",
      "text/plain": [
       "<Figure size 640x480 with 1 Axes>"
      ]
     },
     "metadata": {},
     "output_type": "display_data"
    }
   ],
   "source": [
    "plt.scatter(X,Y) \n",
    "#simple linear regression model : y=b1*x+b0 \n",
    "line = regressor.coef_*X+regressor.intercept_\n",
    "print(line)\n",
    "plt.plot(X,line)"
   ]
  },
  {
   "cell_type": "markdown",
   "id": "406637d1-db4a-4bf1-ae74-752cb0393c29",
   "metadata": {},
   "source": [
    "# Time for prediction "
   ]
  },
  {
   "cell_type": "code",
   "execution_count": 14,
   "id": "6eb59cd0-1b39-4e41-bd1c-a62f4cd6bc8a",
   "metadata": {},
   "outputs": [
    {
     "name": "stdout",
     "output_type": "stream",
     "text": [
      "the test set :\n",
      "[[8.3]\n",
      " [2.5]\n",
      " [2.5]\n",
      " [6.9]\n",
      " [5.9]]\n",
      "<class 'numpy.ndarray'>\n"
     ]
    }
   ],
   "source": [
    "print(\"the test set :\")\n",
    "print(X_test) \n",
    "\n",
    "Y_pred = regressor.predict(X_test) # Predicting the scores"
   ]
  },
  {
   "cell_type": "code",
   "execution_count": 12,
   "id": "a9132522-22f7-4e41-95b9-324ce09189d0",
   "metadata": {},
   "outputs": [
    {
     "data": {
      "text/html": [
       "<div>\n",
       "<style scoped>\n",
       "    .dataframe tbody tr th:only-of-type {\n",
       "        vertical-align: middle;\n",
       "    }\n",
       "\n",
       "    .dataframe tbody tr th {\n",
       "        vertical-align: top;\n",
       "    }\n",
       "\n",
       "    .dataframe thead th {\n",
       "        text-align: right;\n",
       "    }\n",
       "</style>\n",
       "<table border=\"1\" class=\"dataframe\">\n",
       "  <thead>\n",
       "    <tr style=\"text-align: right;\">\n",
       "      <th></th>\n",
       "      <th>Actual</th>\n",
       "      <th>Predicted</th>\n",
       "    </tr>\n",
       "  </thead>\n",
       "  <tbody>\n",
       "    <tr>\n",
       "      <th>0</th>\n",
       "      <td>81</td>\n",
       "      <td>83.188141</td>\n",
       "    </tr>\n",
       "    <tr>\n",
       "      <th>1</th>\n",
       "      <td>30</td>\n",
       "      <td>27.032088</td>\n",
       "    </tr>\n",
       "    <tr>\n",
       "      <th>2</th>\n",
       "      <td>21</td>\n",
       "      <td>27.032088</td>\n",
       "    </tr>\n",
       "    <tr>\n",
       "      <th>3</th>\n",
       "      <td>76</td>\n",
       "      <td>69.633232</td>\n",
       "    </tr>\n",
       "    <tr>\n",
       "      <th>4</th>\n",
       "      <td>62</td>\n",
       "      <td>59.951153</td>\n",
       "    </tr>\n",
       "  </tbody>\n",
       "</table>\n",
       "</div>"
      ],
      "text/plain": [
       "   Actual  Predicted\n",
       "0      81  83.188141\n",
       "1      30  27.032088\n",
       "2      21  27.032088\n",
       "3      76  69.633232\n",
       "4      62  59.951153"
      ]
     },
     "execution_count": 12,
     "metadata": {},
     "output_type": "execute_result"
    }
   ],
   "source": [
    "# Comparing Actual vs Predicted\n",
    "df = pd.DataFrame({'Actual': Y_test, 'Predicted': Y_pred})  \n",
    "df "
   ]
  },
  {
   "cell_type": "markdown",
   "id": "01ae60ec-0357-464c-8a03-5a700bce2f61",
   "metadata": {},
   "source": [
    "# Predicted score if a student studies for 9.25hours/day \n"
   ]
  },
  {
   "cell_type": "code",
   "execution_count": 16,
   "id": "c04d33fd-c02e-49e2-b62f-86a10b2e8480",
   "metadata": {},
   "outputs": [
    {
     "name": "stdout",
     "output_type": "stream",
     "text": [
      "[92.38611528]\n"
     ]
    }
   ],
   "source": [
    "test1=np.array([[9.25]])\n",
    "result_pred = regressor.predict(test1)\n",
    "print(result_pred)"
   ]
  },
  {
   "cell_type": "markdown",
   "id": "4b3e3b6a-2eeb-4cbe-9e7e-de0e78ece068",
   "metadata": {},
   "source": [
    "# Evaluation the model strength "
   ]
  },
  {
   "cell_type": "code",
   "execution_count": 91,
   "id": "7cd20423-f1cd-4e98-9983-13244fc37270",
   "metadata": {},
   "outputs": [
    {
     "name": "stdout",
     "output_type": "stream",
     "text": [
      "Mean Absolute Error: 3.9207511902099244\n",
      "R-squared  0.9678055545167994\n"
     ]
    }
   ],
   "source": [
    "# Calculate R-squared\n",
    "from sklearn.metrics import r2_score\n",
    "from sklearn import metrics  \n",
    "print('Mean Absolute Error:', metrics.mean_absolute_error(Y_test, Y_pred))\n",
    "r2_value = r2_score(Y_test, Y_pred)\n",
    "print(\"R-squared \", r2_value)\n"
   ]
  },
  {
   "cell_type": "code",
   "execution_count": null,
   "id": "d075dd80-1a52-4c91-94fb-a5d11f6fc0fa",
   "metadata": {},
   "outputs": [],
   "source": []
  }
 ],
 "metadata": {
  "kernelspec": {
   "display_name": "Python 3 (ipykernel)",
   "language": "python",
   "name": "python3"
  },
  "language_info": {
   "codemirror_mode": {
    "name": "ipython",
    "version": 3
   },
   "file_extension": ".py",
   "mimetype": "text/x-python",
   "name": "python",
   "nbconvert_exporter": "python",
   "pygments_lexer": "ipython3",
   "version": "3.12.1"
  }
 },
 "nbformat": 4,
 "nbformat_minor": 5
}
